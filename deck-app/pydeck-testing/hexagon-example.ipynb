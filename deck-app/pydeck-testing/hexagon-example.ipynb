{
 "cells": [
  {
   "cell_type": "markdown",
   "metadata": {},
   "source": [
    "# Hexagon Example\n",
    "From here: https://deckgl.readthedocs.io/en/stable/layer.html#pydeck.bindings.layer.Layer"
   ]
  },
  {
   "cell_type": "code",
   "execution_count": null,
   "metadata": {},
   "outputs": [],
   "source": [
    "import pydeck"
   ]
  },
  {
   "cell_type": "markdown",
   "metadata": {},
   "source": [
    "Enter your Mapbox API Key Here:"
   ]
  },
  {
   "cell_type": "code",
   "execution_count": null,
   "metadata": {},
   "outputs": [],
   "source": [
    "MAPBOX_API_KEY = None"
   ]
  },
  {
   "cell_type": "code",
   "execution_count": null,
   "metadata": {},
   "outputs": [],
   "source": [
    "UK_ACCIDENTS_DATA = ('https://raw.githubusercontent.com/uber-common/deck.gl-data/master/examples/3d-heatmap/heatmap-data.csv')"
   ]
  },
  {
   "cell_type": "code",
   "execution_count": null,
   "metadata": {},
   "outputs": [],
   "source": [
    "layer = pydeck.Layer(\n",
    "     'HexagonLayer',\n",
    "     UK_ACCIDENTS_DATA,\n",
    "     get_position=['lng', 'lat'],\n",
    "     auto_highlight=True,\n",
    "     elevation_scale=50,\n",
    "     pickable=True,\n",
    "     elevation_range=[0, 3000],\n",
    "     extruded=False,\n",
    "     coverage=1)"
   ]
  },
  {
   "cell_type": "code",
   "execution_count": null,
   "metadata": {},
   "outputs": [],
   "source": [
    "view_state = pydeck.ViewState(\n",
    "    longitude=-1.415,\n",
    "    latitude=52.2323,\n",
    "    zoom=6,\n",
    "    min_zoom=5,\n",
    "    max_zoom=15,\n",
    "    bearing=-27.36)"
   ]
  },
  {
   "cell_type": "code",
   "execution_count": null,
   "metadata": {},
   "outputs": [],
   "source": [
    "r = pydeck.Deck(layers=[layer], \n",
    "                initial_view_state=view_state, \n",
    "                map_style='mapbox://styles/mapbox/dark-v10', \n",
    "                mapbox_key=MAPBOX_API_KEY)\n",
    "r.to_html('hexagon-example-dark.html', notebook_display=False)"
   ]
  },
  {
   "cell_type": "code",
   "execution_count": null,
   "metadata": {},
   "outputs": [],
   "source": [
    "r = pydeck.Deck(layers=[layer], \n",
    "                initial_view_state=view_state, \n",
    "                map_style='mapbox://styles/mapbox/light-v10', \n",
    "                mapbox_key=MAPBOX_API_KEY)\n",
    "r.to_html('hexagon-example-light.html', notebook_display=False)"
   ]
  }
 ],
 "metadata": {
  "kernelspec": {
   "display_name": "Python 3",
   "language": "python",
   "name": "python3"
  },
  "language_info": {
   "codemirror_mode": {
    "name": "ipython",
    "version": 3
   },
   "file_extension": ".py",
   "mimetype": "text/x-python",
   "name": "python",
   "nbconvert_exporter": "python",
   "pygments_lexer": "ipython3",
   "version": "3.8.1"
  }
 },
 "nbformat": 4,
 "nbformat_minor": 2
}
